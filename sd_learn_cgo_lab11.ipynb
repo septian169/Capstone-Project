{
  "cells": [
    {
      "cell_type": "code",
      "execution_count": 1,
      "metadata": {
        "id": "urkECkXbAgo6",
        "colab": {
          "base_uri": "https://localhost:8080/"
        },
        "outputId": "ac55046f-5327-4e9f-b8b7-64efa8260f28"
      },
      "outputs": [
        {
          "output_type": "stream",
          "name": "stdout",
          "text": [
            "Collecting git+https://github.com/ibm-granite-community/utils\n",
            "  Cloning https://github.com/ibm-granite-community/utils to /tmp/pip-req-build-5edjpird\n",
            "  Running command git clone --filter=blob:none --quiet https://github.com/ibm-granite-community/utils /tmp/pip-req-build-5edjpird\n",
            "  Resolved https://github.com/ibm-granite-community/utils to commit 1514191fbbc4605ed4fdfdcb448f2ee41477058f\n",
            "  Installing build dependencies ... \u001b[?25l\u001b[?25hdone\n",
            "  Getting requirements to build wheel ... \u001b[?25l\u001b[?25hdone\n",
            "  Preparing metadata (pyproject.toml) ... \u001b[?25l\u001b[?25hdone\n",
            "Requirement already satisfied: langchain_community<0.3.0 in /usr/local/lib/python3.11/dist-packages (0.2.19)\n",
            "Requirement already satisfied: replicate in /usr/local/lib/python3.11/dist-packages (1.0.7)\n",
            "Requirement already satisfied: python-dotenv in /usr/local/lib/python3.11/dist-packages (from ibm-granite-community-utils==0.1.dev74) (1.1.1)\n",
            "Requirement already satisfied: langchain_core in /usr/local/lib/python3.11/dist-packages (from ibm-granite-community-utils==0.1.dev74) (0.2.43)\n",
            "Requirement already satisfied: typing_extensions in /usr/local/lib/python3.11/dist-packages (from ibm-granite-community-utils==0.1.dev74) (4.14.1)\n",
            "Requirement already satisfied: PyYAML>=5.3 in /usr/local/lib/python3.11/dist-packages (from langchain_community<0.3.0) (6.0.2)\n",
            "Requirement already satisfied: SQLAlchemy<3,>=1.4 in /usr/local/lib/python3.11/dist-packages (from langchain_community<0.3.0) (2.0.41)\n",
            "Requirement already satisfied: aiohttp<4.0.0,>=3.8.3 in /usr/local/lib/python3.11/dist-packages (from langchain_community<0.3.0) (3.11.15)\n",
            "Requirement already satisfied: dataclasses-json<0.7,>=0.5.7 in /usr/local/lib/python3.11/dist-packages (from langchain_community<0.3.0) (0.6.7)\n",
            "Requirement already satisfied: langchain<0.3.0,>=0.2.17 in /usr/local/lib/python3.11/dist-packages (from langchain_community<0.3.0) (0.2.17)\n",
            "Requirement already satisfied: langsmith<0.2.0,>=0.1.112 in /usr/local/lib/python3.11/dist-packages (from langchain_community<0.3.0) (0.1.147)\n",
            "Requirement already satisfied: numpy<2,>=1 in /usr/local/lib/python3.11/dist-packages (from langchain_community<0.3.0) (1.26.4)\n",
            "Requirement already satisfied: requests<3,>=2 in /usr/local/lib/python3.11/dist-packages (from langchain_community<0.3.0) (2.32.3)\n",
            "Requirement already satisfied: tenacity!=8.4.0,<9.0.0,>=8.1.0 in /usr/local/lib/python3.11/dist-packages (from langchain_community<0.3.0) (8.5.0)\n",
            "Requirement already satisfied: httpx<1,>=0.21.0 in /usr/local/lib/python3.11/dist-packages (from replicate) (0.28.1)\n",
            "Requirement already satisfied: packaging in /usr/local/lib/python3.11/dist-packages (from replicate) (24.2)\n",
            "Requirement already satisfied: pydantic>1.10.7 in /usr/local/lib/python3.11/dist-packages (from replicate) (2.11.7)\n",
            "Requirement already satisfied: aiohappyeyeballs>=2.3.0 in /usr/local/lib/python3.11/dist-packages (from aiohttp<4.0.0,>=3.8.3->langchain_community<0.3.0) (2.6.1)\n",
            "Requirement already satisfied: aiosignal>=1.1.2 in /usr/local/lib/python3.11/dist-packages (from aiohttp<4.0.0,>=3.8.3->langchain_community<0.3.0) (1.4.0)\n",
            "Requirement already satisfied: attrs>=17.3.0 in /usr/local/lib/python3.11/dist-packages (from aiohttp<4.0.0,>=3.8.3->langchain_community<0.3.0) (25.3.0)\n",
            "Requirement already satisfied: frozenlist>=1.1.1 in /usr/local/lib/python3.11/dist-packages (from aiohttp<4.0.0,>=3.8.3->langchain_community<0.3.0) (1.7.0)\n",
            "Requirement already satisfied: multidict<7.0,>=4.5 in /usr/local/lib/python3.11/dist-packages (from aiohttp<4.0.0,>=3.8.3->langchain_community<0.3.0) (6.6.3)\n",
            "Requirement already satisfied: propcache>=0.2.0 in /usr/local/lib/python3.11/dist-packages (from aiohttp<4.0.0,>=3.8.3->langchain_community<0.3.0) (0.3.2)\n",
            "Requirement already satisfied: yarl<2.0,>=1.17.0 in /usr/local/lib/python3.11/dist-packages (from aiohttp<4.0.0,>=3.8.3->langchain_community<0.3.0) (1.20.1)\n",
            "Requirement already satisfied: marshmallow<4.0.0,>=3.18.0 in /usr/local/lib/python3.11/dist-packages (from dataclasses-json<0.7,>=0.5.7->langchain_community<0.3.0) (3.26.1)\n",
            "Requirement already satisfied: typing-inspect<1,>=0.4.0 in /usr/local/lib/python3.11/dist-packages (from dataclasses-json<0.7,>=0.5.7->langchain_community<0.3.0) (0.9.0)\n",
            "Requirement already satisfied: anyio in /usr/local/lib/python3.11/dist-packages (from httpx<1,>=0.21.0->replicate) (4.9.0)\n",
            "Requirement already satisfied: certifi in /usr/local/lib/python3.11/dist-packages (from httpx<1,>=0.21.0->replicate) (2025.7.9)\n",
            "Requirement already satisfied: httpcore==1.* in /usr/local/lib/python3.11/dist-packages (from httpx<1,>=0.21.0->replicate) (1.0.9)\n",
            "Requirement already satisfied: idna in /usr/local/lib/python3.11/dist-packages (from httpx<1,>=0.21.0->replicate) (3.10)\n",
            "Requirement already satisfied: h11>=0.16 in /usr/local/lib/python3.11/dist-packages (from httpcore==1.*->httpx<1,>=0.21.0->replicate) (0.16.0)\n",
            "Requirement already satisfied: langchain-text-splitters<0.3.0,>=0.2.0 in /usr/local/lib/python3.11/dist-packages (from langchain<0.3.0,>=0.2.17->langchain_community<0.3.0) (0.2.4)\n",
            "Requirement already satisfied: jsonpatch<2.0,>=1.33 in /usr/local/lib/python3.11/dist-packages (from langchain_core->ibm-granite-community-utils==0.1.dev74) (1.33)\n",
            "Requirement already satisfied: orjson<4.0.0,>=3.9.14 in /usr/local/lib/python3.11/dist-packages (from langsmith<0.2.0,>=0.1.112->langchain_community<0.3.0) (3.10.18)\n",
            "Requirement already satisfied: requests-toolbelt<2.0.0,>=1.0.0 in /usr/local/lib/python3.11/dist-packages (from langsmith<0.2.0,>=0.1.112->langchain_community<0.3.0) (1.0.0)\n",
            "Requirement already satisfied: annotated-types>=0.6.0 in /usr/local/lib/python3.11/dist-packages (from pydantic>1.10.7->replicate) (0.7.0)\n",
            "Requirement already satisfied: pydantic-core==2.33.2 in /usr/local/lib/python3.11/dist-packages (from pydantic>1.10.7->replicate) (2.33.2)\n",
            "Requirement already satisfied: typing-inspection>=0.4.0 in /usr/local/lib/python3.11/dist-packages (from pydantic>1.10.7->replicate) (0.4.1)\n",
            "Requirement already satisfied: charset-normalizer<4,>=2 in /usr/local/lib/python3.11/dist-packages (from requests<3,>=2->langchain_community<0.3.0) (3.4.2)\n",
            "Requirement already satisfied: urllib3<3,>=1.21.1 in /usr/local/lib/python3.11/dist-packages (from requests<3,>=2->langchain_community<0.3.0) (2.4.0)\n",
            "Requirement already satisfied: greenlet>=1 in /usr/local/lib/python3.11/dist-packages (from SQLAlchemy<3,>=1.4->langchain_community<0.3.0) (3.2.3)\n",
            "Requirement already satisfied: jsonpointer>=1.9 in /usr/local/lib/python3.11/dist-packages (from jsonpatch<2.0,>=1.33->langchain_core->ibm-granite-community-utils==0.1.dev74) (3.0.0)\n",
            "Requirement already satisfied: mypy-extensions>=0.3.0 in /usr/local/lib/python3.11/dist-packages (from typing-inspect<1,>=0.4.0->dataclasses-json<0.7,>=0.5.7->langchain_community<0.3.0) (1.1.0)\n",
            "Requirement already satisfied: sniffio>=1.1 in /usr/local/lib/python3.11/dist-packages (from anyio->httpx<1,>=0.21.0->replicate) (1.3.1)\n"
          ]
        }
      ],
      "source": [
        "!pip install git+https://github.com/ibm-granite-community/utils \\\n",
        "    \"langchain_community<0.3.0\" \\\n",
        "    replicate"
      ]
    },
    {
      "cell_type": "code",
      "execution_count": 3,
      "metadata": {
        "id": "3r0HxqRQNo6A",
        "colab": {
          "base_uri": "https://localhost:8080/"
        },
        "outputId": "2f49883c-5536-414f-86ae-193dc653e0d7"
      },
      "outputs": [
        {
          "output_type": "stream",
          "name": "stdout",
          "text": [
            "REPLICATE_API_TOKEN loaded from Google Colab secret.\n"
          ]
        }
      ],
      "source": [
        "from ibm_granite_community.notebook_utils import get_env_var\n",
        "from langchain_community.llms import Replicate\n",
        "\n",
        "model = Replicate(\n",
        "    model=\"ibm-granite/granite-3.3-8b-instruct\",\n",
        "    replicate_api_token=get_env_var('REPLICATE_API_TOKEN'),\n",
        "    model_kwargs={\"max_tokens\":1024, \"temperature\":0.2},\n",
        ")"
      ]
    },
    {
      "cell_type": "code",
      "execution_count": 4,
      "metadata": {
        "id": "3URKgq3vOME_"
      },
      "outputs": [],
      "source": [
        "def zeroshot_prompt(context, question, book_titles):\n",
        "    \"\"\"\n",
        "    Creates a zero-shot prompt for the model, where the model acts as a seasoned programmer.\n",
        "\n",
        "    Parameters:\n",
        "    - context: str, contextual information for the prompt\n",
        "    - question: str, specific question or task for the model to perform\n",
        "    - book_titles: list, list of book titles to include in the prompt\n",
        "    Returns:\n",
        "    - str, the formatted prompt\n",
        "    \"\"\"\n",
        "\n",
        "    titles = \"to do list\".join(book_titles)\n",
        "    prompt = f\"\"\"\n",
        "    A to-do list app for personal task management {context}.\n",
        "    Create a UI with ipywidgets that allows users to add tasks to a list, check them off when done, and delete tasks if needed {question}.\n",
        "    [Work, Home, Personal]{titles}.\n",
        "    Ensure that you generate only Python code for a Jupyter Notebook using ipywidgets UI components.\n",
        "    Do not output anything but the code. The output code should not exceed 300 tokens.\n",
        "    \"\"\"\n",
        "    return prompt\n"
      ]
    },
    {
      "cell_type": "code",
      "execution_count": 5,
      "metadata": {
        "id": "f-o9FFvbOQQJ"
      },
      "outputs": [],
      "source": [
        "def get_answer_using_zeroshot(context, question, book_titles):\n",
        "    \"\"\"\n",
        "    Generates the response from the model based on a zero-shot prompt.\n",
        "\n",
        "    Parameters:\n",
        "    - context: str, This is for managing daily personal tasks\n",
        "    - question: str, Add ability to prioritize tasks\n",
        "    - book_titles: list, Deep work, Atomic Habits\n",
        "\n",
        "    Returns:\n",
        "    - str, the generated result from the model\n",
        "    \"\"\"\n",
        "    prompt = zeroshot_prompt(context, question, book_titles)\n",
        "    result = model.invoke(prompt)\n",
        "\n",
        "    return result"
      ]
    },
    {
      "cell_type": "code",
      "execution_count": 6,
      "metadata": {
        "id": "9ScSaBu9OXRI",
        "colab": {
          "base_uri": "https://localhost:8080/"
        },
        "outputId": "0a681a8e-3a85-4d8e-caac-14b2e80e8de5"
      },
      "outputs": [
        {
          "output_type": "stream",
          "name": "stdout",
          "text": [
            "Generated Code:\n",
            "```python\n",
            "import ipywidgets as widgets\n",
            "from IPython.display import display\n",
            "\n",
            "# Initialize an empty list to store tasks\n",
            "tasks = []\n",
            "\n",
            "# Function to add tasks\n",
            "def add_task(task_text):\n",
            "    new_task = {'text': task_text, 'completed': False, 'priority': 'Low'}\n",
            "    tasks.append(new_task)\n",
            "    update_task_list()\n",
            "\n",
            "# Function to update task list UI\n",
            "def update_task_list():\n",
            "    task_widgets = []\n",
            "    for task in tasks:\n",
            "        task_widget = widgets.HBox([\n",
            "            widgets.Label(task['text']),\n",
            "            widgets.Checkbox(value=False, description='Complete', disabled=False, indent=False),\n",
            "            widgets.Dropdown(options=['Work', 'Home', 'Personal'], value=task['priority'], description='Priority:')\n",
            "        ])\n",
            "        task_widgets.append(task_widget)\n",
            "        delete_button = widgets.Button(description='Delete')\n",
            "        delete_button.on_click(lambda b: delete_task(task_widgets, tasks, task_widget))\n",
            "        task_widgets.append(delete_button)\n",
            "    task_layout = widgets.VBox(task_widgets)\n",
            "    display(task_layout)\n",
            "\n",
            "# Function to delete a task\n",
            "def delete_task(task_widgets, tasks_list, task_widget):\n",
            "    task_index = task_widgets.index(task_widget)\n",
            "    tasks_list.pop(task_index)\n",
            "    task_widgets.pop(task_index)\n",
            "    update_task_list()\n",
            "\n",
            "# Create UI elements\n",
            "task_input = widgets.Text(description='Enter Task:')\n",
            "add_button = widgets.Button(description='Add Task', button_style='info')\n",
            "add_button.on_click(lambda b: add_task(task_input.value))\n",
            "\n",
            "# Display initial UI\n",
            "display(task_input, add_button)\n",
            "\n",
            "# Initial task list update\n",
            "update_task_list()\n",
            "```\n",
            "\n",
            "This code sets up a basic to-do list app using ipywidgets in a Jupyter Notebook. It allows users to add tasks, mark them as complete, set priorities, and delete tasks. The tasks are displayed in a vertical layout with checkboxes, priority dropdowns, and delete buttons.\n"
          ]
        }
      ],
      "source": [
        "context = \"This is for managing daily personal tasks\"\n",
        "question = \"Add ability to prioritize tasks\"\n",
        "book_titles =  [\"Deep Work\", \"Atomic Habits\"]\n",
        "\n",
        "# Generate and display the UI code for the landing page\n",
        "result = get_answer_using_zeroshot(context, question, book_titles)\n",
        "print(f\"Generated Code:\\n{result}\")"
      ]
    },
    {
      "cell_type": "code",
      "execution_count": 7,
      "metadata": {
        "id": "_rq2u2djTsdK",
        "colab": {
          "base_uri": "https://localhost:8080/",
          "height": 229,
          "referenced_widgets": [
            "02140ffbcb4842ec86ecd518f9d74077",
            "13dd9efc342248a89e079413188ce693",
            "9f4efd3c8ddc4addbc7f9fdc75aa01f2",
            "6fc7fbc9dbef471b95a03f85beba3226",
            "407b3b916a5e45f98ecc19a7109ab372",
            "3e5be2cca07547cfb0f5930ca4462df0",
            "980bdadaac254e6bb4a7e0fc072e32c1",
            "3600b88904984a1dbe1ac40e658be517",
            "2ce1f2e2d2a54c1295d077f4d3203090",
            "56e4064b84164c3d85b4457c3d027837",
            "7618e44a58e34854a727c3f4ebcd1a0d",
            "762ce274461d4b328a74432f67872f1f",
            "81af77fe78694c58bb86fea751230f06",
            "748a9b4d0acc4e4e83aa7adb569d802b",
            "a277168a74124e53984fa19958ee8d6f",
            "660a205f7d3e4856b9659ea813cfefad",
            "89b9fb17ad34421bbe305a32788deb0f",
            "672e9373f3324f7e85dcc1887718c881",
            "05662087567749a4988f93722751ab59",
            "82b3c5ea1f964d928ff96e7c5378315f",
            "8144d5f3eebd4087b8fe8ac718e359c0",
            "3ee2981ad7764907947c48f990713adc",
            "ca78edd700114bda8cdc69c1efdcee7a",
            "faae7fe5a26944aa9db0e2a68c4a96bf",
            "e02b9beb386b4088a589e7089697bc06",
            "d3ddb8dd9f0f47439eef0f11b5e0e296",
            "33f49f03b8954d30ae50276687501ff5",
            "fc570badccd34ef282ccedae9b1ec847",
            "fd0158f0dde54756bd36b7ccba87354b",
            "c3c5c1e2f6f348dc93880e818d91bc73",
            "8f24149eb6a24af5823d71f1cb3c8a84",
            "6d8b47f11ba84e698367fd00e5f331d7",
            "131e8a481f784406bc781f849f6e1524",
            "b15a0946a249456f9d56a7051e97a126",
            "f5bff4e2bfa644a3868301a51d22f29d",
            "13befac38fdf4ad28615516d167c3dc8",
            "1b409650c5854b799b0d539196a760dd",
            "a7d45b903f734aa2b7b950b1b756e3c4",
            "7d5f480d0fed428291bfd072ff5b85fa",
            "41a274e1d5f0487ca79f126354541af6",
            "d3551d222bb540cbbc956b79ccb2891e",
            "184c8fca62e84a0caa8013c5c6c46f7a",
            "7bdd9874b10a408caa371eee176921dd",
            "16417df2396c478d830481eff3b5fb80",
            "2e7eafbfeadb4041854b698693562367",
            "0fdfabdbf77e414a92698b654a46d81b",
            "61c44c188582427c8eea80d79e9c4bf4",
            "e7cc30d5afd84879aa89da59c933ddd8",
            "1bbbedd5eb944b1a8539d512b9a02fc2",
            "4a07c2ffd0924efbb8d3bfde94ed21b3",
            "130fad2394d7416080e3c88452b0e0f6",
            "09b7fb63bb594e68abbfbecba7e921a7",
            "33dfc062c1c04291b4116869142ecfc7",
            "53a3221c21744eacb6ba8ee9535b43ac"
          ]
        },
        "outputId": "c039bb25-9d36-4a35-d86c-100295231a87"
      },
      "outputs": [
        {
          "output_type": "display_data",
          "data": {
            "text/plain": [
              "VBox(children=(HTML(value='<h2>Personal Task Manager</h2>'), HTML(value='Welcome! Organize your tasks below:')…"
            ],
            "application/vnd.jupyter.widget-view+json": {
              "version_major": 2,
              "version_minor": 0,
              "model_id": "02140ffbcb4842ec86ecd518f9d74077"
            }
          },
          "metadata": {}
        }
      ],
      "source": [
        "import ipywidgets as widgets\n",
        "# Define the header\n",
        "header = widgets.HTML(\"<h2>Personal Task Manager</h2>\")\n",
        "# Define the welcome message\n",
        "welcome_message = widgets.HTML(\"Welcome! Organize your tasks below:\")\n",
        "# Define the task data\n",
        "task_titles = [\"Buy groceries\", \"Finish homework\", \"Read Atomic Habits\", \"Call mom\"]\n",
        "task_priorities = [\"High\", \"Medium\", \"Low\", \"High\"]\n",
        "task_completed = [False, True, False, False]\n",
        "# Create a list of task widgets\n",
        "task_widget_list = []\n",
        "for i in range(len(task_titles)):\n",
        "    task_widget = widgets.HBox([\n",
        "        widgets.Label(f\"{task_titles[i]}\"),\n",
        "        widgets.Checkbox(value=task_completed[i], description=\"Done\"),\n",
        "        widgets.Dropdown(options=[\"Low\", \"Medium\", \"High\"], value=task_priorities[i], description=\"Priority\")\n",
        "    ])\n",
        "    task_widget_list.append(task_widget)\n",
        "# Create a vertical box layout for the landing page\n",
        "task_list_ui = widgets.VBox(task_widget_list)\n",
        "landing_page = widgets.VBox([header, welcome_message, task_list_ui])\n",
        "# Display the landing page\n",
        "landing_page"
      ]
    }
  ],
  "metadata": {
    "colab": {
      "provenance": []
    },
    "kernelspec": {
      "display_name": ".venv",
      "language": "python",
      "name": "python3"
    },
    "language_info": {
      "codemirror_mode": {
        "name": "ipython",
        "version": 3
      },
      "file_extension": ".py",
      "mimetype": "text/x-python",
      "name": "python",
      "nbconvert_exporter": "python",
      "pygments_lexer": "ipython3",
      "version": "3.10.11"
    },
    "widgets": {}
  }
}